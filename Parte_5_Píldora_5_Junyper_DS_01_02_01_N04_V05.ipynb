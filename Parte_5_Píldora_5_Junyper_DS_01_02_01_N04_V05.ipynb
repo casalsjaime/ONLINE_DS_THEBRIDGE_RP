{
  "cells": [
    {
      "cell_type": "markdown",
      "metadata": {
        "id": "view-in-github",
        "colab_type": "text"
      },
      "source": [
        "<a href=\"https://colab.research.google.com/github/casalsjaime/ONLINE_DS_THEBRIDGE_RP/blob/main/Parte_5_P%C3%ADldora_5_Junyper_DS_01_02_01_N04_V05.ipynb\" target=\"_parent\"><img src=\"https://colab.research.google.com/assets/colab-badge.svg\" alt=\"Open In Colab\"/></a>"
      ]
    },
    {
      "cell_type": "markdown",
      "metadata": {
        "id": "9Z4FOXgAqo6R"
      },
      "source": [
        "![TheBridge_Python_v0.png](attachment:TheBridge_Python_v0.png)"
      ]
    },
    {
      "cell_type": "markdown",
      "metadata": {
        "id": "gheVddoGqo6T"
      },
      "source": [
        "## Colecciones Python: Sets\n"
      ]
    },
    {
      "cell_type": "markdown",
      "metadata": {
        "id": "N_yOJv19qo6U"
      },
      "source": [
        "### Contenidos\n"
      ]
    },
    {
      "cell_type": "markdown",
      "metadata": {
        "id": "xIfqzUmzqo6V"
      },
      "source": [
        "* [Introducción](#Introducción)\n",
        "\n"
      ]
    },
    {
      "cell_type": "markdown",
      "metadata": {
        "id": "XrV9q7raqo6V"
      },
      "source": [
        "### Introducción\n",
        "[al indice](#Contenidos)  \n",
        "\n",
        "Otra colección *bulit-in* de Python, compuesta por un conjunto de *valores*. Muy parecidos a las listas. Tienen las siguientes características:\n",
        "* **Mutables**: podemos modificarlos una vez se hayan creado\n",
        "* **No ordenado**\n",
        "* **Elementos unicos**: se compone de un conjunto de valores únicas\n",
        "\n",
        "**¿Cuándo usar sets?** Cuando estemos buscando unicidad en nuestros datos y no nos importe el orden.\n",
        "\n",
        "Te dejo por aquí [la documentación](https://docs.python.org/2/library/sets.html) para realizar consultas sobre los sets\n",
        "\n",
        "Si sintaxis es:\n",
        ">```Python\n",
        "> mi_set = {elemento1, elemento2, elemento3}\n",
        ">```\n",
        "\n",
        "Tiene una sintaxis muy parecida a la de las listas, pero en este caso no se utilizan los `{}`."
      ]
    },
    {
      "cell_type": "code",
      "execution_count": null,
      "metadata": {
        "id": "sJApGhdCqo6W"
      },
      "outputs": [],
      "source": []
    },
    {
      "cell_type": "markdown",
      "metadata": {
        "id": "dq6pwdd4qo6X"
      },
      "source": [
        "Los elementos del set son unicos, por lo que si en la declaración, o posteriormente añadiendo elementos hubiese algún duplicado, el set lo ignoraría. Es más, cuando aplicas el `len`, muestra la cantidad de valores únicos que tiene."
      ]
    },
    {
      "cell_type": "code",
      "execution_count": null,
      "metadata": {
        "id": "D_QRspvDqo6Y"
      },
      "outputs": [],
      "source": []
    },
    {
      "cell_type": "markdown",
      "metadata": {
        "id": "7sAOOVAsqo6Y"
      },
      "source": [
        "Para comprobar si dos sets tienen los mismos elementos"
      ]
    },
    {
      "cell_type": "code",
      "execution_count": null,
      "metadata": {
        "id": "1rZaZ7zBqo6Y"
      },
      "outputs": [],
      "source": []
    }
  ],
  "metadata": {
    "kernelspec": {
      "display_name": "Python 3 (ipykernel)",
      "language": "python",
      "name": "python3"
    },
    "language_info": {
      "codemirror_mode": {
        "name": "ipython",
        "version": 3
      },
      "file_extension": ".py",
      "mimetype": "text/x-python",
      "name": "python",
      "nbconvert_exporter": "python",
      "pygments_lexer": "ipython3",
      "version": "3.9.7"
    },
    "colab": {
      "provenance": [],
      "include_colab_link": true
    }
  },
  "nbformat": 4,
  "nbformat_minor": 0
}