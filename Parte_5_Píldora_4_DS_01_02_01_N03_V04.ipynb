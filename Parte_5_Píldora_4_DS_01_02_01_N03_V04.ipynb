{
  "cells": [
    {
      "cell_type": "markdown",
      "metadata": {
        "id": "view-in-github",
        "colab_type": "text"
      },
      "source": [
        "<a href=\"https://colab.research.google.com/github/casalsjaime/ONLINE_DS_THEBRIDGE_RP/blob/main/Parte_5_P%C3%ADldora_4_DS_01_02_01_N03_V04.ipynb\" target=\"_parent\"><img src=\"https://colab.research.google.com/assets/colab-badge.svg\" alt=\"Open In Colab\"/></a>"
      ]
    },
    {
      "cell_type": "markdown",
      "metadata": {
        "id": "8oFqht3UiBcv"
      },
      "source": [
        "![TheBridge_Python_v0.png](attachment:TheBridge_Python_v0.png)"
      ]
    },
    {
      "cell_type": "markdown",
      "metadata": {
        "id": "ZObmn1IQiBcx"
      },
      "source": [
        "## Colecciones Python: Diccionarios\n"
      ]
    },
    {
      "cell_type": "markdown",
      "metadata": {
        "id": "L2HpdTsYiBcy"
      },
      "source": [
        "### Contenidos\n"
      ]
    },
    {
      "cell_type": "markdown",
      "metadata": {
        "id": "S4cf1StriBcy"
      },
      "source": [
        "* [Introducción](#Introducción)\n",
        "\n",
        "* [Acceso, modificación, añadir, eliminar](#Acceso,-modificación,-añadir,-eliminar)\n",
        "\n",
        "* [Iterar](#Iterar)\n",
        "\n"
      ]
    },
    {
      "cell_type": "markdown",
      "metadata": {
        "id": "lBV86uJ8iBcz"
      },
      "source": [
        "### Introducción\n",
        "[al indice](#Contenidos)  \n",
        "\n",
        "En este tipo de colecciones no solo podemos agrupar datos, sino que tenemos la posibilidad de establecer una relación entre los mismos, con la forma **clave: valor**.\n",
        "\n",
        "La sintaxis  es mediante llaves `{}`\n",
        "\n",
        "> nombre_diccionario = {clave1: valor1, clave2: valor2, clave3: valor3}\n",
        "\n",
        "Si veíamos que las listas son elementos mutables y y ordenadas, y las tuplas inmutables y ordenadas, los diccionarios son:\n",
        "\n",
        "* **Mutables**: podemos modificar sus elementos\n",
        "* **Desordenado**: la potencia de acceso de los diccionarios es su formato clave-valor, no su orden. Aun así, el dicionario conserva el orden de los elemento según los vamos insertando.\n",
        "\n",
        "Vamos a declarar un diccionario en el que definiremos elementos de un coche"
      ]
    },
    {
      "cell_type": "code",
      "execution_count": null,
      "metadata": {
        "id": "7SbxPXvMiBcz"
      },
      "outputs": [],
      "source": []
    },
    {
      "cell_type": "markdown",
      "metadata": {
        "id": "v5pFw7PxiBcz"
      },
      "source": [
        "Se puede almacenar todo tipo de datos: numero, cadena, booleano, listas, tuplas, diccionarios...\n",
        "\n",
        "Cuando declaremos el diccionario, lo podemos hacer en una sola linea `coche = {\"color\"=\"Gris\", \"marca\"...}`, aunque se recomienda por sencillez a la hora de leer el código, realizar esta acción en varias líneas. Si escribimos el primer elemento y presionamos enter, Jupyter introduce automáticamente la tabulación."
      ]
    },
    {
      "cell_type": "markdown",
      "metadata": {
        "id": "Pr3m4kvqiBc0"
      },
      "source": [
        "### Acceso, modificación, añadir, eliminar\n",
        "[al indice](#Contenidos)  \n",
        "\n"
      ]
    },
    {
      "cell_type": "code",
      "execution_count": null,
      "metadata": {
        "id": "g05BrAo0iBc0"
      },
      "outputs": [],
      "source": []
    },
    {
      "cell_type": "markdown",
      "metadata": {
        "id": "DrHcw0ljiBc1"
      },
      "source": [
        "Para más detalle de los métodos de los diccionario puedes [consultar la documentación](https://www.w3schools.com/python/python_ref_dictionary.asp)"
      ]
    },
    {
      "cell_type": "code",
      "execution_count": null,
      "metadata": {
        "id": "e6Bai9ckiBc1"
      },
      "outputs": [],
      "source": [
        "# Podemos empezar tambien mediante un diccionario vacío"
      ]
    },
    {
      "cell_type": "markdown",
      "metadata": {
        "id": "CeueIHPMiBc1"
      },
      "source": [
        "<table align=\"left\">\n",
        " <tr>\n",
        "     <td style=\"text-align:left\">\n",
        "         <h3>ERRORES en diccionarios</h3>\n",
        "         \n",
        " </td></tr>\n",
        "</table>"
      ]
    },
    {
      "cell_type": "markdown",
      "metadata": {
        "id": "VWRz8_rRiBc1"
      },
      "source": [
        "Si hay una clave que no existe en el diccionario, saltará un error.\n",
        "\n",
        "En este caso, el error es bastante intuitivo: `KeyError`, no encuentra la clave"
      ]
    },
    {
      "cell_type": "code",
      "execution_count": null,
      "metadata": {
        "id": "XvLFFGI5iBc2"
      },
      "outputs": [],
      "source": []
    },
    {
      "cell_type": "markdown",
      "metadata": {
        "id": "_vEEPlWIiBc2"
      },
      "source": [
        "**¿Cómo solventar esto?** Sirmpre tienes la opción de usar el bloque `try/except`, pero en este caso, los diccionarios tienen una solución más elegante: `mi_diccionario.get(clave, valor si no existe)`"
      ]
    },
    {
      "cell_type": "code",
      "execution_count": null,
      "metadata": {
        "id": "JT7tcYvmiBc2"
      },
      "outputs": [],
      "source": []
    },
    {
      "cell_type": "markdown",
      "metadata": {
        "id": "_Gcmj8WfiBc2"
      },
      "source": [
        "### Iterar\n",
        "[al indice](#Contenidos)  \n",
        "\n",
        "Que el diccionario no esté ordenado, no quiere decir que no podamos iterar sus elementos, ya que también es un **interable**, como los son las listas o las tuplas."
      ]
    },
    {
      "cell_type": "code",
      "execution_count": null,
      "metadata": {
        "id": "DVjFb9XdiBc2"
      },
      "outputs": [],
      "source": []
    },
    {
      "cell_type": "code",
      "execution_count": null,
      "metadata": {
        "id": "3tlYjJo6iBc2"
      },
      "outputs": [],
      "source": []
    }
  ],
  "metadata": {
    "kernelspec": {
      "display_name": "Python 3 (ipykernel)",
      "language": "python",
      "name": "python3"
    },
    "language_info": {
      "codemirror_mode": {
        "name": "ipython",
        "version": 3
      },
      "file_extension": ".py",
      "mimetype": "text/x-python",
      "name": "python",
      "nbconvert_exporter": "python",
      "pygments_lexer": "ipython3",
      "version": "3.9.7"
    },
    "colab": {
      "provenance": [],
      "include_colab_link": true
    }
  },
  "nbformat": 4,
  "nbformat_minor": 0
}