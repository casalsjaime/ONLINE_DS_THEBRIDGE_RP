{
  "cells": [
    {
      "cell_type": "markdown",
      "metadata": {
        "id": "view-in-github",
        "colab_type": "text"
      },
      "source": [
        "<a href=\"https://colab.research.google.com/github/casalsjaime/ONLINE_DS_THEBRIDGE_RP/blob/main/Parte_5_P%C3%ADldora_10_Junyper_DS_01_02_01_N09_V10.ipynb\" target=\"_parent\"><img src=\"https://colab.research.google.com/assets/colab-badge.svg\" alt=\"Open In Colab\"/></a>"
      ]
    },
    {
      "cell_type": "markdown",
      "metadata": {
        "id": "7C4lzXhJ_VEy"
      },
      "source": [
        "![TheBridge_Python_v0.png](attachment:TheBridge_Python_v0.png)"
      ]
    },
    {
      "cell_type": "markdown",
      "metadata": {
        "id": "TZCyssfg_VEz"
      },
      "source": [
        "##  Argumentos clave-valor"
      ]
    },
    {
      "cell_type": "markdown",
      "metadata": {
        "id": "KDOC7pCL_VEz"
      },
      "source": [
        "### Contenidos"
      ]
    },
    {
      "cell_type": "markdown",
      "metadata": {
        "id": "xSSUxLbB_VEz"
      },
      "source": [
        "* [Combinar `*args` con `**kwargs`](#Combinar-`*args`-con-`**kwargs`)\n",
        "* [Argumentos keyword](#Argumentos-keyword)\n"
      ]
    },
    {
      "cell_type": "markdown",
      "metadata": {
        "id": "dFoM3VEW_VE0"
      },
      "source": [
        "\n",
        "Para terminar con las diferentes posibilidades que ofrecen los argumentos de las funciones, vamos a tratar los argumentos clave-valor.  \n",
        "\n",
        "Es decir, tenemos también la opción de introducir un diccionario como argumentos, de esta forma, aunque el numero de argumentos sea variable, tendremos un inidicador, la clave, y el valor de cada clave.\n",
        "\n",
        "Se implementa con `**`"
      ]
    },
    {
      "cell_type": "code",
      "execution_count": null,
      "metadata": {
        "id": "CRobnoAa_VE0"
      },
      "outputs": [],
      "source": []
    },
    {
      "cell_type": "markdown",
      "metadata": {
        "id": "fgVpu3ir_VE1"
      },
      "source": [
        "### Combinar `*args` con `**kwargs`\n",
        "[al indice](#Contenidos)  \n",
        "No hay ningun problema en tener un numero variable de argumentos y también argumentos clave-valor, todo ello en la misma función."
      ]
    },
    {
      "cell_type": "code",
      "execution_count": null,
      "metadata": {
        "id": "77AEwZZb_VE2"
      },
      "outputs": [],
      "source": []
    },
    {
      "cell_type": "markdown",
      "metadata": {
        "id": "n9-glscj_VE2"
      },
      "source": [
        "### Argumentos keyword\n",
        "[al indice](#Contenidos)  \n",
        "Existe otro tipo de argumentos que son los *keyword*. Se caracterizan porque llevan un valor por defecto, y por tanto, si no usamos dicho argumento en la llamada, dentro de la función tomará el valor que hayamos dejado por defecto.\n",
        "\n",
        "Ten en cuenta que estos argumentos se colocan **al final**"
      ]
    },
    {
      "cell_type": "code",
      "execution_count": null,
      "metadata": {
        "id": "t89TOB79_VE3"
      },
      "outputs": [],
      "source": []
    },
    {
      "cell_type": "markdown",
      "metadata": {
        "id": "BbcQw4Bw_VE3"
      },
      "source": [
        "<table align=\"left\">\n",
        " <tr>\n",
        "     <td style=\"text-align:left\">\n",
        "         <h3>ERRORES con argumentos keyword</h3>\n",
        "         \n",
        " </td></tr>\n",
        "</table>"
      ]
    },
    {
      "cell_type": "code",
      "execution_count": null,
      "metadata": {
        "id": "Yy9M4Trn_VE3"
      },
      "outputs": [],
      "source": []
    }
  ],
  "metadata": {
    "kernelspec": {
      "display_name": "Python 3 (ipykernel)",
      "language": "python",
      "name": "python3"
    },
    "language_info": {
      "codemirror_mode": {
        "name": "ipython",
        "version": 3
      },
      "file_extension": ".py",
      "mimetype": "text/x-python",
      "name": "python",
      "nbconvert_exporter": "python",
      "pygments_lexer": "ipython3",
      "version": "3.9.7"
    },
    "colab": {
      "provenance": [],
      "include_colab_link": true
    }
  },
  "nbformat": 4,
  "nbformat_minor": 0
}