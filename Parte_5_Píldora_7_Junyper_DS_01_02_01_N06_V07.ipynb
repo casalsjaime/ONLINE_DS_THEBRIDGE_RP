{
  "cells": [
    {
      "cell_type": "markdown",
      "metadata": {
        "id": "view-in-github",
        "colab_type": "text"
      },
      "source": [
        "<a href=\"https://colab.research.google.com/github/casalsjaime/ONLINE_DS_THEBRIDGE_RP/blob/main/Parte_5_P%C3%ADldora_7_Junyper_DS_01_02_01_N06_V07.ipynb\" target=\"_parent\"><img src=\"https://colab.research.google.com/assets/colab-badge.svg\" alt=\"Open In Colab\"/></a>"
      ]
    },
    {
      "cell_type": "markdown",
      "metadata": {
        "id": "chPZFL7S4SJh"
      },
      "source": [
        "![TheBridge_Python_v0.png](attachment:TheBridge_Python_v0.png)"
      ]
    },
    {
      "cell_type": "markdown",
      "metadata": {
        "id": "5qDbxRRm4SJi"
      },
      "source": [
        "##  Funciones de usuario II"
      ]
    },
    {
      "cell_type": "markdown",
      "metadata": {
        "id": "zOWVeHDH4SJj"
      },
      "source": [
        "### Contenidos"
      ]
    },
    {
      "cell_type": "markdown",
      "metadata": {
        "id": "u74q-OaI4SJk"
      },
      "source": [
        "* [Return](#Return)\n",
        "\n",
        "* [Tipos de datos de los argumentos](#Tipos-de-datos-de-los-argumentos)\n",
        "\n",
        "* [Errores típicos con funciones](#Errores-típicos-con-funciones)\n",
        "\n"
      ]
    },
    {
      "cell_type": "markdown",
      "metadata": {
        "id": "WjQgIaOP4SJk"
      },
      "source": [
        "### Return\n",
        "[al indice](#Contenidos)  \n",
        "\n",
        "\n",
        "Continuamos con las funciones definidas por el usuario. Recuerda que la sintaxis que vimos en el anterior notebook era:\n",
        "\n",
        "\n",
        "> ```Python\n",
        "> def nombre_funcion(entrada):\n",
        ">    operaciones varias\n",
        ">    return output\n",
        "> ```\n",
        "\n",
        "Hicimos un ejemplo de función que nos devolvía un resultado (output) que podíamos almacenar en una variable... pero las funciones **tampoco tienen por qué llevar un `return`**. No siempre es necesario un output. En tal caso, devuelve `None`"
      ]
    },
    {
      "cell_type": "code",
      "execution_count": null,
      "metadata": {
        "id": "Ziad3Rm94SJl"
      },
      "outputs": [],
      "source": [
        "from datetime import datetime\n",
        "\n",
        "def que_hora_es():\n",
        "    now = datetime.now().time()\n",
        "    return now\n"
      ]
    },
    {
      "cell_type": "markdown",
      "metadata": {
        "id": "Rw9QjKWO4SJl"
      },
      "source": [
        "También **puedes poner varias salidas en el return**. En ese caso, si no se especifica nada más la salida de la función será de tipo \"tupla\" (tuple). Pero generalmente los agrupamos en una colección."
      ]
    },
    {
      "cell_type": "code",
      "execution_count": null,
      "metadata": {
        "id": "BvHUSusM4SJm"
      },
      "outputs": [],
      "source": [
        "def conversor_km_millas(distancia):\n",
        "    millas = 0.62 * distancia\n",
        "    return round(millas,1)"
      ]
    },
    {
      "cell_type": "markdown",
      "metadata": {
        "id": "evjmbTzW4SJm"
      },
      "source": [
        "### Tipos de datos de los argumentos\n",
        "[al indice](#Contenidos)  \n",
        "\n",
        "Lo que quieras: numeros, texto, listas, tuplas, diccionarios, objetos de clases que hayas definido..."
      ]
    },
    {
      "cell_type": "code",
      "execution_count": null,
      "metadata": {
        "id": "iKNwoGAg4SJn"
      },
      "outputs": [],
      "source": []
    },
    {
      "cell_type": "markdown",
      "metadata": {
        "id": "LEU_3_qf4SJn"
      },
      "source": [
        "### Errores típicos con funciones\n",
        "[al indice](#Contenidos)  \n",
        "\n"
      ]
    },
    {
      "cell_type": "markdown",
      "metadata": {
        "id": "TOD0tA8b4SJn"
      },
      "source": [
        "<table align=\"left\">\n",
        " <tr>\n",
        "     <td style=\"text-align:left\">\n",
        "         <h3>ERRORES variables de la función</h3>\n",
        "         \n",
        " </td></tr>\n",
        "</table>"
      ]
    },
    {
      "cell_type": "code",
      "execution_count": null,
      "metadata": {
        "id": "5o0yRGZp4SJn"
      },
      "outputs": [],
      "source": [
        "# Todo lo que declaremos dentro de la función se crea UNICAMENTE para la función\n",
        "# Fuera de la misma, esas variables no existen"
      ]
    },
    {
      "cell_type": "markdown",
      "metadata": {
        "id": "jHyHHaK14SJn"
      },
      "source": [
        "Se crea un namespace interno dentro de las funciones, es decir, que lo que declaremos dentro, se queda dentro. No lo podremos usar fuera. Además, ten en cuenta que todo lo que introduzcamos dentro de flujos de control (`if/else`, bucles...), nos vale para el resto de la función"
      ]
    },
    {
      "cell_type": "code",
      "execution_count": null,
      "metadata": {
        "id": "uUn4pZ1w4SJn"
      },
      "outputs": [],
      "source": [
        "def numero_ifs(numero):\n",
        "    if numero == 1:\n",
        "        out = 1\n",
        "    return out\n",
        "\n",
        "numero_ifs(1)"
      ]
    },
    {
      "cell_type": "code",
      "execution_count": null,
      "metadata": {
        "id": "MPfSyhg74SJo"
      },
      "outputs": [],
      "source": []
    },
    {
      "cell_type": "code",
      "execution_count": null,
      "metadata": {
        "id": "FglKIg0X4SJo"
      },
      "outputs": [],
      "source": [
        "# Si no introducimos argumentos en una función que SI tiene argumentos, salta un error de este estilo"
      ]
    },
    {
      "cell_type": "markdown",
      "metadata": {
        "id": "rTgdQD6r4SJo"
      },
      "source": [
        "Cuidado también con la sintaxis de línea. Después de dos puntos `:`, viene todo el bloque de código tabulado, de la función"
      ]
    },
    {
      "cell_type": "code",
      "execution_count": null,
      "metadata": {
        "id": "X4YHk1UR4SJo"
      },
      "outputs": [],
      "source": []
    },
    {
      "cell_type": "code",
      "execution_count": null,
      "metadata": {
        "id": "ljFZRKGE4SJo"
      },
      "outputs": [],
      "source": []
    }
  ],
  "metadata": {
    "kernelspec": {
      "display_name": "Python 3 (ipykernel)",
      "language": "python",
      "name": "python3"
    },
    "language_info": {
      "codemirror_mode": {
        "name": "ipython",
        "version": 3
      },
      "file_extension": ".py",
      "mimetype": "text/x-python",
      "name": "python",
      "nbconvert_exporter": "python",
      "pygments_lexer": "ipython3",
      "version": "3.9.7"
    },
    "colab": {
      "provenance": [],
      "include_colab_link": true
    }
  },
  "nbformat": 4,
  "nbformat_minor": 0
}